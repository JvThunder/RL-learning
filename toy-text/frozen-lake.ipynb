{
 "cells": [
  {
   "cell_type": "code",
   "execution_count": 1,
   "metadata": {},
   "outputs": [],
   "source": [
    "import gym\n",
    "import gym_classics\n",
    "import warnings\n",
    "import numpy as np\n",
    "import random\n",
    "import matplotlib.pyplot as plt\n",
    "from tqdm import tqdm\n",
    "from collections import deque\n",
    "warnings.filterwarnings(\"ignore\")"
   ]
  },
  {
   "cell_type": "code",
   "execution_count": 21,
   "metadata": {},
   "outputs": [],
   "source": [
    "def sarsa(env, Q, params):\n",
    "    tot_steps = 0\n",
    "    done = False\n",
    "    trunc = False\n",
    "    state, info = env.reset()\n",
    "    tot_reward = 0\n",
    "    action = 0\n",
    "    if np.random.binomial(1, params[\"epsilon\"]) == 1:\n",
    "        action = np.random.choice(range(4))\n",
    "    else:\n",
    "        values_ = Q[state, :]\n",
    "        action = np.random.choice([action_ for action_, value_ in enumerate(values_) if value_ == np.max(values_)])\n",
    "    \n",
    "    while not done and not trunc:\n",
    "        nxt_state, reward, done, trunc, info = env.step(action)\n",
    "        nxt_action = 0\n",
    "        if np.random.binomial(1, params[\"epsilon\"]) == 1:\n",
    "            nxt_action = np.random.choice(range(4))\n",
    "        else:\n",
    "            values_ = Q[nxt_state, :]\n",
    "            nxt_action = np.random.choice([action_ for action_, value_ in enumerate(values_) if value_ == np.max(values_)])\n",
    "\n",
    "        target = params[\"gamma\"] * Q[nxt_state, nxt_action]\n",
    "        if done or trunc: target = 0\n",
    "        td_error = reward + target - Q[state, action]\n",
    "        Q[state, action] += params[\"alpha\"] * td_error\n",
    "        \n",
    "        params[\"epsilon\"] *= np.exp(-params[\"decay_rate\"])\n",
    "        tot_reward += reward\n",
    "        state = nxt_state\n",
    "    return tot_reward"
   ]
  },
  {
   "cell_type": "code",
   "execution_count": 24,
   "metadata": {},
   "outputs": [
    {
     "name": "stderr",
     "output_type": "stream",
     "text": [
      "100%|██████████| 100/100 [00:22<00:00,  4.38it/s]\n"
     ]
    }
   ],
   "source": [
    "params = {\n",
    "    \"alpha\": 0.05,\n",
    "    \"gamma\": 0.9,\n",
    "    \"epsilon\": 1,\n",
    "    \"decay_rate\": 0.01,\n",
    "}\n",
    "\n",
    "env = gym.make('FrozenLake-v1')\n",
    "EPISODES = 100\n",
    "ROUNDS = 100\n",
    "reward_list = np.zeros(EPISODES)\n",
    "Q = np.zeros((16, 4))\n",
    "for i in tqdm(range(EPISODES)):\n",
    "    for _ in range(ROUNDS):\n",
    "        reward_list[i] += sarsa(env, Q, params)"
   ]
  },
  {
   "cell_type": "code",
   "execution_count": 25,
   "metadata": {},
   "outputs": [
    {
     "data": {
      "image/png": "[encoded data removed]",
      "text/plain": [
       "<Figure size 432x288 with 1 Axes>"
      ]
     },
     "metadata": {
      "needs_background": "light"
     },
     "output_type": "display_data"
    }
   ],
   "source": [
    "plt.plot(reward_list)\n",
    "plt.show()"
   ]
  },
  {
   "cell_type": "code",
   "execution_count": null,
   "metadata": {},
   "outputs": [],
   "source": []
  }
 ],
 "metadata": {
  "kernelspec": {
   "display_name": "Python 3.9.13 64-bit (microsoft store)",
   "language": "python",
   "name": "python3"
  },
  "language_info": {
   "codemirror_mode": {
    "name": "ipython",
    "version": 3
   },
   "file_extension": ".py",
   "mimetype": "text/x-python",
   "name": "python",
   "nbconvert_exporter": "python",
   "pygments_lexer": "ipython3",
   "version": "3.9.13"
  },
  "orig_nbformat": 4,
  "vscode": {
   "interpreter": {
    "hash": "47616051ff63aeeac36103e296d3336537a0c2bffa1b3ec970ae79cf7e9a110c"
   }
  }
 },
 "nbformat": 4,
 "nbformat_minor": 2
}
