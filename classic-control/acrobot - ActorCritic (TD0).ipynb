{
 "cells": [
  {
   "cell_type": "code",
   "execution_count": 1,
   "metadata": {},
   "outputs": [],
   "source": [
    "import gymnasium as gym\n",
    "import numpy as np\n",
    "import pandas as pd\n",
    "import matplotlib.pyplot as plt\n",
    "import imageio\n",
    "import tqdm\n",
    "from collections import deque\n",
    "\n",
    "import torch\n",
    "import torch.nn as nn\n",
    "import torch.nn.functional as F\n",
    "import torch.optim as optim\n",
    "import torch.autograd as autograd\n",
    "from torch.distributions import Categorical\n",
    "\n",
    "import matplotlib.pyplot as plt\n",
    "import seaborn as sns\n",
    "import numpy as np"
   ]
  },
  {
   "cell_type": "code",
   "execution_count": 2,
   "metadata": {},
   "outputs": [
    {
     "name": "stdout",
     "output_type": "stream",
     "text": [
      "cpu\n"
     ]
    }
   ],
   "source": [
    "NUM_EPISODES = 10000\n",
    "MAX_STEPS = 400\n",
    "SOLVED_SCORE = -100\n",
    "\n",
    "GAMMA = 0.99\n",
    "HIDDEN_UNITS = 256\n",
    "LR_ACTOR = 0.0005\n",
    "LR_CRITIC = 0.0005\n",
    "\n",
    "#device to run model on \n",
    "DEVICE = \"cuda\" if torch.cuda.is_available() else \"cpu\"\n",
    "print(DEVICE)"
   ]
  },
  {
   "cell_type": "code",
   "execution_count": 3,
   "metadata": {},
   "outputs": [],
   "source": [
    "class Actor(nn.Module):    \n",
    "    def __init__(self, observation_space, hidden_units, action_space):\n",
    "        super(Actor, self).__init__()\n",
    "        self.input_layer = nn.Linear(observation_space, hidden_units)\n",
    "        self.output_layer = nn.Linear(hidden_units, action_space)\n",
    "    \n",
    "    def forward(self, x):\n",
    "        x = self.input_layer(x)\n",
    "        x = F.relu(x)\n",
    "        actions = self.output_layer(x)\n",
    "        action_probs = F.softmax(actions, dim=1)\n",
    "        return action_probs"
   ]
  },
  {
   "cell_type": "code",
   "execution_count": 4,
   "metadata": {},
   "outputs": [],
   "source": [
    "class Critic(nn.Module):\n",
    "    def __init__(self, observation_space, hidden_units):\n",
    "        super(Critic, self).__init__()\n",
    "        self.input_layer = nn.Linear(observation_space, hidden_units)\n",
    "        self.output_layer = nn.Linear(hidden_units, 1)\n",
    "        \n",
    "    def forward(self, x):\n",
    "        x = self.input_layer(x)\n",
    "        x = F.relu(x)\n",
    "        state_value = self.output_layer(x)\n",
    "        return state_value"
   ]
  },
  {
   "cell_type": "code",
   "execution_count": 5,
   "metadata": {},
   "outputs": [],
   "source": [
    "env = gym.make('Acrobot-v1')\n",
    "\n",
    "observation_space = env.observation_space.shape[0]\n",
    "action_space = env.action_space.n\n",
    "hidden_units = HIDDEN_UNITS\n",
    "\n",
    "actor = Actor(observation_space, hidden_units, action_space).to(DEVICE)\n",
    "critic = Critic(observation_space, hidden_units).to(DEVICE)\n",
    "\n",
    "actor_optimizer = torch.optim.Adam(actor.parameters(), lr=LR_ACTOR)\n",
    "critic_optimizer = torch.optim.Adam(critic.parameters(), lr=LR_CRITIC)"
   ]
  },
  {
   "cell_type": "code",
   "execution_count": 6,
   "metadata": {},
   "outputs": [],
   "source": [
    "def select_action(actor, state):\n",
    "    ''' Selects an action given current state using the actor network.'''\n",
    "    \n",
    "    #convert state to float tensor, add 1 dimension, allocate tensor on device\n",
    "    state = torch.from_numpy(state).float().unsqueeze(0).to(DEVICE)\n",
    "    \n",
    "    #use network to predict action probabilities\n",
    "    action_probs = actor(state)\n",
    "    state = state.detach()\n",
    "    \n",
    "    #sample an action using the probability distribution\n",
    "    m = Categorical(action_probs)\n",
    "    action = m.sample()\n",
    "    \n",
    "    #return action\n",
    "    return action.item(), m.log_prob(action)"
   ]
  },
  {
   "cell_type": "code",
   "execution_count": 7,
   "metadata": {},
   "outputs": [
    {
     "name": "stderr",
     "output_type": "stream",
     "text": [
      "  0%|          | 1/10000 [00:01<3:32:21,  1.27s/it]"
     ]
    },
    {
     "name": "stdout",
     "output_type": "stream",
     "text": [
      "Episode 0\tAverage Score: -400.00\n"
     ]
    },
    {
     "name": "stderr",
     "output_type": "stream",
     "text": [
      "  1%|          | 101/10000 [00:39<35:45,  4.61it/s] "
     ]
    },
    {
     "name": "stdout",
     "output_type": "stream",
     "text": [
      "Episode 100\tAverage Score: -131.33\n"
     ]
    },
    {
     "name": "stderr",
     "output_type": "stream",
     "text": [
      "  1%|          | 111/10000 [00:42<1:03:16,  2.60it/s]\n"
     ]
    }
   ],
   "source": [
    "#track scores\n",
    "scores = []\n",
    "\n",
    "#track recent scores\n",
    "recent_scores = deque(maxlen = 100)\n",
    "\n",
    "#run episodes\n",
    "for episode in tqdm.trange(NUM_EPISODES):\n",
    "    \n",
    "    #init variables\n",
    "    state, _ = env.reset()\n",
    "    done = False\n",
    "    score = 0\n",
    "    I = 1\n",
    "    \n",
    "    #run episode, update online\n",
    "    for step in range(MAX_STEPS):\n",
    "        \n",
    "        #get action and log probability\n",
    "        action, lp = select_action(actor, state)\n",
    "        \n",
    "        #step with action\n",
    "        new_state, reward, done, _, _ = env.step(action)\n",
    "        \n",
    "        #update episode score\n",
    "        score += reward\n",
    "        \n",
    "        #get state value of current state\n",
    "        state_tensor = torch.from_numpy(state).float().unsqueeze(0).to(DEVICE)\n",
    "        state_val = critic(state_tensor)\n",
    "        \n",
    "        #get state value of next state\n",
    "        new_state_tensor = torch.from_numpy(new_state).float().unsqueeze(0).to(DEVICE)        \n",
    "        new_state_val = critic(new_state_tensor)\n",
    "        \n",
    "        #if terminal state, next state val is 0\n",
    "        if done:\n",
    "            new_state_val = torch.tensor([0]).float().unsqueeze(0).to(DEVICE)\n",
    "        \n",
    "        #calculate value function loss with MSE\n",
    "        val_loss = F.smooth_l1_loss(reward + GAMMA * new_state_val, state_val)\n",
    "        val_loss *= I\n",
    "        \n",
    "        #calculate policy loss\n",
    "        advantage = reward + GAMMA * new_state_val.item() - state_val.item()\n",
    "        actor_loss = -lp * advantage\n",
    "        actor_loss *= I\n",
    "        \n",
    "        #Backpropagate actor\n",
    "        actor_optimizer.zero_grad()\n",
    "        actor_loss.backward(retain_graph=True)\n",
    "        actor_optimizer.step()\n",
    "        \n",
    "        #Backpropagate critic\n",
    "        critic_optimizer.zero_grad()\n",
    "        val_loss.backward()\n",
    "        critic_optimizer.step()\n",
    "        \n",
    "        if done:\n",
    "            break\n",
    "            \n",
    "        #move into new state, discount I\n",
    "        state = new_state\n",
    "        I *= GAMMA\n",
    "    \n",
    "    #append episode score \n",
    "    scores.append(score)\n",
    "    recent_scores.append(score)\n",
    "\n",
    "    #print episode stats\n",
    "    if episode % 100 == 0:\n",
    "        print('Episode {}\\tAverage Score: {:.2f}'.format(episode, np.array(recent_scores).mean()))\n",
    "    \n",
    "    #early stopping if we meet solved score goal\n",
    "    if np.array(recent_scores).mean() >= SOLVED_SCORE:\n",
    "        break"
   ]
  },
  {
   "cell_type": "code",
   "execution_count": 8,
   "metadata": {},
   "outputs": [
    {
     "data": {
      "image/png": "[encoded data removed]",
      "text/plain": [
       "<Figure size 640x480 with 1 Axes>"
      ]
     },
     "metadata": {},
     "output_type": "display_data"
    }
   ],
   "source": [
    "sns.set()\n",
    "scores_series = pd.Series(scores)\n",
    "rolling_average = scores_series.rolling(window=100).mean()\n",
    "plt.plot(rolling_average)\n",
    "plt.ylabel('Rewards')\n",
    "plt.xlabel('Episodes')\n",
    "plt.title('Training score of Acrobot Actor-Critic TD(0)')\n",
    "plt.show()"
   ]
  },
  {
   "cell_type": "code",
   "execution_count": 9,
   "metadata": {},
   "outputs": [
    {
     "name": "stderr",
     "output_type": "stream",
     "text": [
      "100%|██████████| 50/50 [00:03<00:00, 15.79it/s]\n"
     ]
    }
   ],
   "source": [
    "done = False\n",
    "state = env.reset()\n",
    "scores = []\n",
    "\n",
    "for _ in tqdm.trange(50):\n",
    "    state, _ = env.reset()\n",
    "    done = False\n",
    "    trunc = False\n",
    "    score = 0\n",
    "    while not done and not trunc:\n",
    "        action, lp = select_action(actor, state)\n",
    "        new_state, reward, done, trunc, _ = env.step(action)\n",
    "        score += reward\n",
    "        state = new_state\n",
    "    scores.append(score)\n",
    "env.close()"
   ]
  },
  {
   "cell_type": "code",
   "execution_count": 10,
   "metadata": {},
   "outputs": [
    {
     "name": "stdout",
     "output_type": "stream",
     "text": [
      "Mean score:  -80.68\n"
     ]
    }
   ],
   "source": [
    "mean_score = np.array(scores).mean()\n",
    "print('Mean score: ', mean_score)"
   ]
  },
  {
   "cell_type": "code",
   "execution_count": 11,
   "metadata": {},
   "outputs": [],
   "source": [
    "state, _ = env.reset()\n",
    "done = False\n",
    "trunc = False\n",
    "score = 0\n",
    "while not done and not trunc:\n",
    "    action, lp = select_action(actor, state)\n",
    "    new_state, reward, done, trunc, _ = env.step(action)\n",
    "    score += reward\n",
    "    state = new_state\n",
    "scores.append(score)"
   ]
  },
  {
   "cell_type": "code",
   "execution_count": 12,
   "metadata": {},
   "outputs": [
    {
     "name": "stdout",
     "output_type": "stream",
     "text": [
      "Score: -123.0\n"
     ]
    }
   ],
   "source": [
    "# test model agent\n",
    "env = gym.make('Acrobot-v1', render_mode=\"rgb_array\")\n",
    "frames = [] \n",
    "done = False\n",
    "trunc = False\n",
    "score = 0\n",
    "state, _ = env.reset()\n",
    "while not done and not trunc:\n",
    "    action, lp = select_action(actor, state)\n",
    "    new_state, reward, done, trunc, _ = env.step(action)\n",
    "    score += reward\n",
    "    state = new_state\n",
    "    img = env.render()\n",
    "    frames.append(img)\n",
    "\n",
    "print(\"Score:\", score)\n",
    "imageio.mimsave('acrobot-actor_critic.gif', frames, duration=60)"
   ]
  },
  {
   "cell_type": "code",
   "execution_count": null,
   "metadata": {},
   "outputs": [],
   "source": []
  }
 ],
 "metadata": {
  "kernelspec": {
   "display_name": "gpu-env",
   "language": "python",
   "name": "python3"
  },
  "language_info": {
   "codemirror_mode": {
    "name": "ipython",
    "version": 3
   },
   "file_extension": ".py",
   "mimetype": "text/x-python",
   "name": "python",
   "nbconvert_exporter": "python",
   "pygments_lexer": "ipython3",
   "version": "3.8.0"
  },
  "orig_nbformat": 4
 },
 "nbformat": 4,
 "nbformat_minor": 2
}
