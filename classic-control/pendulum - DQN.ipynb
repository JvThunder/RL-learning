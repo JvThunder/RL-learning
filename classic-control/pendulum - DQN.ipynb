{
 "cells": [
  {
   "cell_type": "code",
   "execution_count": 2,
   "metadata": {},
   "outputs": [
    {
     "name": "stderr",
     "output_type": "stream",
     "text": [
      "C:\\Users\\Joshua\\AppData\\Local\\Packages\\PythonSoftwareFoundation.Python.3.9_qbz5n2kfra8p0\\LocalCache\\local-packages\\Python39\\site-packages\\ipykernel\\pylab\\config.py:70: DeprecationWarning: InlineBackend._figure_formats_changed is deprecated in traitlets 4.1: use @observe and @unobserve instead.\n",
      "  def _figure_formats_changed(self, name, old, new):\n"
     ]
    }
   ],
   "source": [
    "import gym\n",
    "import numpy as np\n",
    "import pandas as pd\n",
    "import random\n",
    "import matplotlib.pyplot as plt"
   ]
  },
  {
   "cell_type": "code",
   "execution_count": 40,
   "metadata": {},
   "outputs": [
    {
     "name": "stdout",
     "output_type": "stream",
     "text": [
      "-969.781486197149\n"
     ]
    }
   ],
   "source": [
    "#random agent\n",
    "env = gym.make(\"Pendulum-v1\")\n",
    "state = env.reset()\n",
    "num_steps = 200\n",
    "tot_reward = 0\n",
    "for s in range(num_steps):\n",
    "    action = env.action_space.sample()\n",
    "    new_state, reward, done, info = env.step(action)\n",
    "    tot_reward += reward\n",
    "    env.render()\n",
    "env.close()\n",
    "print(tot_reward)"
   ]
  },
  {
   "cell_type": "code",
   "execution_count": 68,
   "metadata": {},
   "outputs": [
    {
     "name": "stdout",
     "output_type": "stream",
     "text": [
      "Reward episode 1 - 100 : -1235.5179898061645\n",
      "Reward episode 101 - 200 : -1284.0904978097606\n",
      "Reward episode 201 - 300 : -1278.2072528481276\n",
      "Reward episode 301 - 400 : -1281.2725957320392\n",
      "Reward episode 401 - 500 : -1263.3445563755854\n",
      "Reward episode 501 - 600 : -1271.9293248464392\n",
      "Reward episode 601 - 700 : -1266.0574342144746\n",
      "Reward episode 701 - 800 : -1248.3510713826854\n",
      "Reward episode 801 - 900 : -1222.5263786588862\n",
      "Reward episode 901 - 1000 : -1214.539447186907\n",
      "Reward episode 1001 - 1100 : -1201.8568842744512\n",
      "Reward episode 1101 - 1200 : -1179.8628174856137\n",
      "Reward episode 1201 - 1300 : -1109.9098217792964\n",
      "Reward episode 1301 - 1400 : -974.3296472185948\n",
      "Reward episode 1401 - 1500 : -946.7354227430277\n",
      "Reward episode 1501 - 1600 : -864.6514053844944\n",
      "Reward episode 1601 - 1700 : -871.3721046631866\n",
      "Reward episode 1701 - 1800 : -913.7887199503618\n",
      "Reward episode 1801 - 1900 : -848.336588583739\n",
      "Reward episode 1901 - 2000 : -760.6476860504943\n",
      "Reward episode 2001 - 2100 : -934.080050375478\n",
      "Reward episode 2101 - 2200 : -843.0017702809968\n",
      "Reward episode 2201 - 2300 : -898.6842169081599\n",
      "Reward episode 2301 - 2400 : -863.6759203733641\n",
      "Reward episode 2401 - 2500 : -895.948916439787\n",
      "Reward episode 2501 - 2600 : -730.0741270074186\n",
      "Reward episode 2601 - 2700 : -794.6377013310045\n",
      "Reward episode 2701 - 2800 : -851.2413354454359\n",
      "Reward episode 2801 - 2900 : -825.2135193796566\n",
      "Reward episode 2901 - 3000 : -814.8914983507731\n",
      "Reward episode 3001 - 3100 : -777.0570285242575\n",
      "Reward episode 3101 - 3200 : -867.2683627129628\n",
      "Reward episode 3201 - 3300 : -716.4585446326407\n",
      "Reward episode 3301 - 3400 : -777.8988048555833\n",
      "Reward episode 3401 - 3500 : -767.9544669945536\n",
      "Reward episode 3501 - 3600 : -828.7933013950209\n",
      "Reward episode 3601 - 3700 : -793.2712513216117\n",
      "Reward episode 3701 - 3800 : -858.9653492655237\n",
      "Reward episode 3801 - 3900 : -732.012048120995\n",
      "Reward episode 3901 - 4000 : -755.4895347704828\n",
      "Reward episode 4001 - 4100 : -727.1774795776016\n",
      "Reward episode 4101 - 4200 : -731.4158703305955\n",
      "Reward episode 4201 - 4300 : -834.8763929628212\n",
      "Reward episode 4301 - 4400 : -730.716158717196\n",
      "Reward episode 4401 - 4500 : -816.0049550069417\n",
      "Reward episode 4501 - 4600 : -711.7518985075056\n",
      "Reward episode 4601 - 4700 : -720.2342217181408\n",
      "Reward episode 4701 - 4800 : -730.1008428146929\n",
      "Reward episode 4801 - 4900 : -732.4011907266877\n",
      "Reward episode 4901 - 5000 : -746.7161048081015\n",
      "Reward episode 5001 - 5100 : -615.423307131519\n",
      "Reward episode 5101 - 5200 : -694.2594686151821\n",
      "Reward episode 5201 - 5300 : -706.9266015632794\n",
      "Reward episode 5301 - 5400 : -708.4252375836463\n",
      "Reward episode 5401 - 5500 : -663.4350176827646\n",
      "Reward episode 5501 - 5600 : -722.8892418023021\n",
      "Reward episode 5601 - 5700 : -733.9319062104875\n",
      "Reward episode 5701 - 5800 : -741.7801151800751\n",
      "Reward episode 5801 - 5900 : -763.6173131179083\n",
      "Reward episode 5901 - 6000 : -683.6190931565866\n",
      "Reward episode 6001 - 6100 : -717.3703052245856\n",
      "Reward episode 6101 - 6200 : -735.9028450039467\n",
      "Reward episode 6201 - 6300 : -670.4592590529575\n",
      "Reward episode 6301 - 6400 : -636.7121055233223\n",
      "Reward episode 6401 - 6500 : -686.3208235404513\n",
      "Reward episode 6501 - 6600 : -633.038009108197\n",
      "Reward episode 6601 - 6700 : -674.5801542635838\n",
      "Reward episode 6701 - 6800 : -733.9469470284897\n",
      "Reward episode 6801 - 6900 : -654.9527774421973\n",
      "Reward episode 6901 - 7000 : -656.738143496507\n",
      "Reward episode 7001 - 7100 : -590.8970135439487\n",
      "Reward episode 7101 - 7200 : -698.6803478444424\n",
      "Reward episode 7201 - 7300 : -655.2988771748838\n",
      "Reward episode 7301 - 7400 : -720.6149007732964\n",
      "Reward episode 7401 - 7500 : -600.7983600230074\n",
      "Reward episode 7501 - 7600 : -640.6943566782311\n",
      "Reward episode 7601 - 7700 : -698.814111941742\n",
      "Reward episode 7701 - 7800 : -581.2688077235922\n",
      "Reward episode 7801 - 7900 : -750.6491772202608\n",
      "Reward episode 7901 - 8000 : -618.5149251126765\n",
      "Reward episode 8001 - 8100 : -674.4138728219864\n",
      "Reward episode 8101 - 8200 : -645.4937438873491\n",
      "Reward episode 8201 - 8300 : -647.9933946246955\n",
      "Reward episode 8301 - 8400 : -672.4871144669268\n",
      "Reward episode 8401 - 8500 : -747.5814104815042\n",
      "Reward episode 8501 - 8600 : -706.1331981898209\n",
      "Reward episode 8601 - 8700 : -669.8043184696246\n",
      "Reward episode 8701 - 8800 : -689.8034551092536\n",
      "Reward episode 8801 - 8900 : -737.1890473919257\n",
      "Reward episode 8901 - 9000 : -654.386284677779\n",
      "Reward episode 9001 - 9100 : -709.085694840871\n",
      "Reward episode 9101 - 9200 : -681.8539062216347\n",
      "Reward episode 9201 - 9300 : -616.96256769599\n",
      "Reward episode 9301 - 9400 : -669.5012046272117\n",
      "Reward episode 9401 - 9500 : -710.1031143509896\n",
      "Reward episode 9501 - 9600 : -617.4047684733706\n",
      "Reward episode 9601 - 9700 : -642.5643783501654\n",
      "Reward episode 9701 - 9800 : -644.964015653295\n",
      "Reward episode 9801 - 9900 : -641.7646786520966\n",
      "Reward episode 9901 - 10000 : -607.1566032549426\n",
      "Complete Training!\n"
     ]
    }
   ],
   "source": [
    "# q-learning agent training\n",
    "def conv_state(state, action):\n",
    "    return (int((state[0]+1 + 2*(np.sign(state[1])+1))*50), int((state[2]+8)*10)), int(action[0]+2)\n",
    "\n",
    "env = gym.make(\"Pendulum-v1\")\n",
    "Q = np.random.uniform(low=-1,high=1,size=(500,200,10))\n",
    "\n",
    "learning_rate = 0.8\n",
    "discount_rate = 0.8\n",
    "epsilon = 1\n",
    "decay_rate = 0.005\n",
    "\n",
    "EPISODES = 10000\n",
    "STEPS = 199\n",
    "\n",
    "rewards = 0\n",
    "reward_list = []\n",
    "for episode in range(EPISODES):\n",
    "    state = env.reset()\n",
    "    state, tmp = conv_state(state, [0])\n",
    "    epsilon = np.exp(-decay_rate*episode)\n",
    "    for s in range(STEPS):\n",
    "        if random.uniform(0,1) < epsilon:\n",
    "            action = [env.action_space.sample()]\n",
    "        else:\n",
    "            action = [float(np.argmax(Q[state[0],state[1],:])-2)]\n",
    "        \n",
    "        new_state, reward, done, info = env.step(action)\n",
    "        if type(reward)==np.ndarray:\n",
    "            reward = reward[0]\n",
    "        rewards += reward\n",
    "        new_state, action = conv_state(new_state, action)\n",
    "        \n",
    "        Q[state[0],state[1],action] += learning_rate * (reward + discount_rate * np.max(Q[new_state[0],new_state[1],:] )\n",
    "                                         - Q[state[0],state[1],action])\n",
    "\n",
    "        state = new_state\n",
    "\n",
    "        if done:\n",
    "            break\n",
    "    \n",
    "    if (episode+1)%100==0:\n",
    "        print(\"Reward episode\",episode-98,\"-\",episode+1,\":\",rewards/100)\n",
    "        reward_list.append(rewards/100)\n",
    "        rewards = 0\n",
    "\n",
    "print(\"Complete Training!\")"
   ]
  },
  {
   "cell_type": "code",
   "execution_count": 69,
   "metadata": {},
   "outputs": [
    {
     "data": {
      "image/png": "[encoded data removed]",
      "text/plain": [
       "<Figure size 432x288 with 1 Axes>"
      ]
     },
     "metadata": {
      "needs_background": "light"
     },
     "output_type": "display_data"
    }
   ],
   "source": [
    "plt.plot(100*(np.arange(len(reward_list))+1), reward_list)\n",
    "plt.xlabel(\"Episodes\")\n",
    "plt.ylabel(\"Reward\")\n",
    "plt.title(\"Reward vs Episodes\")\n",
    "plt.show()"
   ]
  },
  {
   "cell_type": "code",
   "execution_count": 1,
   "metadata": {},
   "outputs": [
    {
     "ename": "NameError",
     "evalue": "name 'gym' is not defined",
     "output_type": "error",
     "traceback": [
      "\u001b[1;31m---------------------------------------------------------------------------\u001b[0m",
      "\u001b[1;31mNameError\u001b[0m                                 Traceback (most recent call last)",
      "\u001b[1;32m<ipython-input-1-df6f9b5bd7b0>\u001b[0m in \u001b[0;36m<module>\u001b[1;34m\u001b[0m\n\u001b[0;32m      1\u001b[0m \u001b[1;31m# test model\u001b[0m\u001b[1;33m\u001b[0m\u001b[1;33m\u001b[0m\u001b[0m\n\u001b[1;32m----> 2\u001b[1;33m \u001b[0menv\u001b[0m \u001b[1;33m=\u001b[0m \u001b[0mgym\u001b[0m\u001b[1;33m.\u001b[0m\u001b[0mmake\u001b[0m\u001b[1;33m(\u001b[0m\u001b[1;34m\"Pendulum-v1\"\u001b[0m\u001b[1;33m)\u001b[0m\u001b[1;33m\u001b[0m\u001b[1;33m\u001b[0m\u001b[0m\n\u001b[0m\u001b[0;32m      3\u001b[0m \u001b[0mstate\u001b[0m \u001b[1;33m=\u001b[0m \u001b[0menv\u001b[0m\u001b[1;33m.\u001b[0m\u001b[0mreset\u001b[0m\u001b[1;33m(\u001b[0m\u001b[1;33m)\u001b[0m\u001b[1;33m\u001b[0m\u001b[1;33m\u001b[0m\u001b[0m\n\u001b[0;32m      4\u001b[0m \u001b[0mstate\u001b[0m\u001b[1;33m,\u001b[0m \u001b[0mtmp\u001b[0m \u001b[1;33m=\u001b[0m \u001b[0mconv_state\u001b[0m\u001b[1;33m(\u001b[0m\u001b[0mstate\u001b[0m\u001b[1;33m,\u001b[0m \u001b[1;33m[\u001b[0m\u001b[1;36m0\u001b[0m\u001b[1;33m]\u001b[0m\u001b[1;33m)\u001b[0m\u001b[1;33m\u001b[0m\u001b[1;33m\u001b[0m\u001b[0m\n\u001b[0;32m      5\u001b[0m \u001b[0mdone\u001b[0m \u001b[1;33m=\u001b[0m \u001b[1;32mFalse\u001b[0m\u001b[1;33m\u001b[0m\u001b[1;33m\u001b[0m\u001b[0m\n",
      "\u001b[1;31mNameError\u001b[0m: name 'gym' is not defined"
     ]
    }
   ],
   "source": [
    "# test model\n",
    "env = gym.make(\"Pendulum-v1\")\n",
    "state = env.reset()\n",
    "state, tmp = conv_state(state, [0])\n",
    "done = False\n",
    "rewards = 0\n",
    "for s in range(STEPS):\n",
    "    action = [np.argmax(Q[state[0],state[1],:])-2]\n",
    "    new_state, reward, done, info = env.step(action)\n",
    "    \n",
    "    new_state, tmp = conv_state(new_state, action)\n",
    "    rewards += reward\n",
    "    state = new_state\n",
    "    env.render()\n",
    "\n",
    "    if done:\n",
    "        break\n",
    "env.close()\n",
    "print(int(abs(rewards)), \"penalty\")"
   ]
  },
  {
   "cell_type": "code",
   "execution_count": null,
   "metadata": {},
   "outputs": [],
   "source": []
  }
 ],
 "metadata": {
  "kernelspec": {
   "display_name": "Python 3.9.13 64-bit (windows store)",
   "language": "python",
   "name": "python3"
  },
  "language_info": {
   "codemirror_mode": {
    "name": "ipython",
    "version": 3
   },
   "file_extension": ".py",
   "mimetype": "text/x-python",
   "name": "python",
   "nbconvert_exporter": "python",
   "pygments_lexer": "ipython3",
   "version": "3.9.13"
  },
  "orig_nbformat": 4,
  "vscode": {
   "interpreter": {
    "hash": "47616051ff63aeeac36103e296d3336537a0c2bffa1b3ec970ae79cf7e9a110c"
   }
  }
 },
 "nbformat": 4,
 "nbformat_minor": 2
}
