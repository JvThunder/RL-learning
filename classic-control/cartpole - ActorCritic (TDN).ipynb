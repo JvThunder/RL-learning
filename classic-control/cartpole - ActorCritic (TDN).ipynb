{
 "cells": [
  {
   "cell_type": "code",
   "execution_count": 2,
   "metadata": {},
   "outputs": [],
   "source": [
    "import gymnasium as gym\n",
    "import numpy as np\n",
    "import pandas as pd\n",
    "import matplotlib.pyplot as plt\n",
    "import imageio\n",
    "import tqdm\n",
    "from collections import deque\n",
    "\n",
    "import torch\n",
    "import torch.nn as nn\n",
    "import torch.nn.functional as F\n",
    "import torch.optim as optim\n",
    "import torch.autograd as autograd\n",
    "from torch.distributions import Categorical\n",
    "\n",
    "import matplotlib.pyplot as plt\n",
    "from sklearn.linear_model import LinearRegression\n",
    "import seaborn as sns\n",
    "import numpy as np"
   ]
  },
  {
   "cell_type": "code",
   "execution_count": 3,
   "metadata": {},
   "outputs": [
    {
     "name": "stdout",
     "output_type": "stream",
     "text": [
      "cpu\n"
     ]
    }
   ],
   "source": [
    "NUM_EPISODES = 10000\n",
    "MAX_STEPS = 500\n",
    "SOLVED_SCORE = 490\n",
    "\n",
    "GAMMA = 0.99\n",
    "HIDDEN_UNITS = 256\n",
    "LR_ACTOR = 0.0005\n",
    "LR_CRITIC = 0.0005\n",
    "N_STEPS = 3\n",
    "\n",
    "#device to run model on \n",
    "DEVICE = \"cuda\" if torch.cuda.is_available() else \"cpu\"\n",
    "print(DEVICE)"
   ]
  },
  {
   "cell_type": "code",
   "execution_count": 15,
   "metadata": {},
   "outputs": [],
   "source": [
    "class Actor(nn.Module):    \n",
    "    def __init__(self, observation_space, hidden_units, action_space):\n",
    "        super(Actor, self).__init__()\n",
    "        self.input_layer = nn.Linear(observation_space, hidden_units)\n",
    "        self.output_layer = nn.Linear(hidden_units, action_space)\n",
    "    \n",
    "    def forward(self, x):\n",
    "        x = self.input_layer(x)\n",
    "        x = F.relu(x)\n",
    "        actions = self.output_layer(x)\n",
    "        action_probs = F.softmax(actions, dim=1)\n",
    "        return action_probs"
   ]
  },
  {
   "cell_type": "code",
   "execution_count": 16,
   "metadata": {},
   "outputs": [],
   "source": [
    "class Critic(nn.Module):\n",
    "    def __init__(self, observation_space, hidden_units):\n",
    "        super(Critic, self).__init__()\n",
    "        self.input_layer = nn.Linear(observation_space, hidden_units)\n",
    "        self.output_layer = nn.Linear(hidden_units, 1)\n",
    "        \n",
    "    def forward(self, x):\n",
    "        x = self.input_layer(x)\n",
    "        x = F.relu(x)\n",
    "        state_value = self.output_layer(x)\n",
    "        return state_value"
   ]
  },
  {
   "cell_type": "code",
   "execution_count": 17,
   "metadata": {},
   "outputs": [],
   "source": [
    "env = gym.make('CartPole-v1')\n",
    "\n",
    "observation_space = env.observation_space.shape[0]\n",
    "action_space = env.action_space.n\n",
    "hidden_units = HIDDEN_UNITS\n",
    "\n",
    "actor = Actor(observation_space, hidden_units, action_space).to(DEVICE)\n",
    "critic = Critic(observation_space, hidden_units).to(DEVICE)\n",
    "\n",
    "actor_optimizer = torch.optim.Adam(actor.parameters(), lr=LR_ACTOR)\n",
    "critic_optimizer = torch.optim.Adam(critic.parameters(), lr=LR_CRITIC)"
   ]
  },
  {
   "cell_type": "code",
   "execution_count": 18,
   "metadata": {},
   "outputs": [],
   "source": [
    "def select_action(actor, state):\n",
    "    ''' Selects an action given current state using the actor network.'''\n",
    "    \n",
    "    #convert state to float tensor, add 1 dimension, allocate tensor on device\n",
    "    state = torch.from_numpy(state).float().unsqueeze(0).to(DEVICE)\n",
    "    \n",
    "    #use network to predict action probabilities\n",
    "    action_probs = actor(state)\n",
    "    state = state.detach()\n",
    "    \n",
    "    #sample an action using the probability distribution\n",
    "    m = Categorical(action_probs)\n",
    "    action = m.sample()\n",
    "    \n",
    "    #return action\n",
    "    return action.item(), m.log_prob(action)"
   ]
  },
  {
   "cell_type": "code",
   "execution_count": 7,
   "metadata": {},
   "outputs": [
    {
     "name": "stdout",
     "output_type": "stream",
     "text": [
      "deque([2, 3, 4], maxlen=3)\n",
      "2\n",
      "3\n",
      "4\n"
     ]
    }
   ],
   "source": [
    "# recent_states = deque(maxlen=N_STEPS)\n",
    "# recent_states.append(1)\n",
    "# recent_states.append(2)\n",
    "# recent_states.append(3)\n",
    "# recent_states.append(4)\n",
    "# len(recent_states)\n",
    "# print(recent_states)\n",
    "# for s in recent_states:\n",
    "#     print(s)"
   ]
  },
  {
   "cell_type": "code",
   "execution_count": 19,
   "metadata": {},
   "outputs": [
    {
     "name": "stderr",
     "output_type": "stream",
     "text": [
      "  0%|          | 0/10000 [00:00<?, ?it/s]"
     ]
    },
    {
     "name": "stdout",
     "output_type": "stream",
     "text": [
      "Episode 0\tAverage Score: 21.00\n"
     ]
    },
    {
     "name": "stderr",
     "output_type": "stream",
     "text": [
      "  0%|          | 2/10000 [00:00<12:05, 13.78it/s]"
     ]
    },
    {
     "name": "stderr",
     "output_type": "stream",
     "text": [
      "  1%|          | 103/10000 [00:09<16:18, 10.11it/s]"
     ]
    },
    {
     "name": "stdout",
     "output_type": "stream",
     "text": [
      "Episode 100\tAverage Score: 34.87\n"
     ]
    },
    {
     "name": "stderr",
     "output_type": "stream",
     "text": [
      "  2%|▏         | 201/10000 [00:26<36:37,  4.46it/s]"
     ]
    },
    {
     "name": "stdout",
     "output_type": "stream",
     "text": [
      "Episode 200\tAverage Score: 58.33\n"
     ]
    },
    {
     "name": "stderr",
     "output_type": "stream",
     "text": [
      "  3%|▎         | 301/10000 [00:43<1:16:33,  2.11it/s]"
     ]
    },
    {
     "name": "stdout",
     "output_type": "stream",
     "text": [
      "Episode 300\tAverage Score: 64.27\n"
     ]
    },
    {
     "name": "stderr",
     "output_type": "stream",
     "text": [
      "  4%|▍         | 401/10000 [01:16<1:15:22,  2.12it/s]"
     ]
    },
    {
     "name": "stdout",
     "output_type": "stream",
     "text": [
      "Episode 400\tAverage Score: 126.64\n"
     ]
    },
    {
     "name": "stderr",
     "output_type": "stream",
     "text": [
      "  5%|▌         | 505/10000 [01:46<05:23, 29.38it/s]  "
     ]
    },
    {
     "name": "stdout",
     "output_type": "stream",
     "text": [
      "Episode 500\tAverage Score: 114.94\n"
     ]
    },
    {
     "name": "stderr",
     "output_type": "stream",
     "text": [
      "  6%|▌         | 601/10000 [01:51<14:19, 10.94it/s]"
     ]
    },
    {
     "name": "stdout",
     "output_type": "stream",
     "text": [
      "Episode 600\tAverage Score: 18.82\n"
     ]
    },
    {
     "name": "stderr",
     "output_type": "stream",
     "text": [
      "  7%|▋         | 692/10000 [03:24<3:50:50,  1.49s/it]"
     ]
    }
   ],
   "source": [
    "#track scores\n",
    "scores = []\n",
    "\n",
    "#track recent scores\n",
    "recent_scores = deque(maxlen = 100)\n",
    "\n",
    "#run episodes\n",
    "for episode in tqdm.trange(NUM_EPISODES):\n",
    "    \n",
    "    #init variables\n",
    "    state, _ = env.reset()\n",
    "    \n",
    "    #track eligibility traces\n",
    "    z_theta = None\n",
    "    z_w = None\n",
    "\n",
    "    done = False\n",
    "    score = 0\n",
    "    I = 1\n",
    "    \n",
    "    #run episode, update online\n",
    "    for step in range(MAX_STEPS):\n",
    "        \n",
    "        #get action and log probability\n",
    "        action, lp = select_action(actor, state)\n",
    "        \n",
    "        #step with action\n",
    "        new_state, reward, done, _, _ = env.step(action)\n",
    "        \n",
    "        #update episode score\n",
    "        score += reward\n",
    "        \n",
    "        #get state value of current state\n",
    "        state_tensor = torch.from_numpy(state).float().unsqueeze(0).to(DEVICE)\n",
    "        state_val = critic(state_tensor)\n",
    "        \n",
    "        #get state value of next state\n",
    "        new_state_tensor = torch.from_numpy(new_state).float().unsqueeze(0).to(DEVICE)        \n",
    "        new_state_val = critic(new_state_tensor)\n",
    "        \n",
    "        #if terminal state, next state val is 0\n",
    "        if done:\n",
    "            new_state_val = torch.tensor([0]).float().unsqueeze(0).to(DEVICE)\n",
    "\n",
    "        target = reward + GAMMA * new_state_val\n",
    "        if z_w == None:\n",
    "            z_w = state_val\n",
    "        else:\n",
    "            z_w += GAMMA * z_w + state_val\n",
    "        \n",
    "        #calculate value function loss with MSE\n",
    "        val_loss = F.smooth_l1_loss(reward + GAMMA * new_state_val, state_val)\n",
    "        val_loss *= I\n",
    "        \n",
    "        #calculate policy loss\n",
    "        advantage = reward + GAMMA * new_state_val.item() - state_val.item()\n",
    "        actor_loss = -lp * advantage\n",
    "        actor_loss *= I\n",
    "        \n",
    "        #Backpropagate actor\n",
    "        actor_optimizer.zero_grad()\n",
    "        actor_loss.backward(retain_graph=True)\n",
    "        actor_optimizer.step()\n",
    "        \n",
    "        #Backpropagate critic\n",
    "        critic_optimizer.zero_grad()\n",
    "        val_loss.backward()\n",
    "        critic_optimizer.step()\n",
    "        \n",
    "        if done:\n",
    "            break\n",
    "            \n",
    "        #move into new state, discount I\n",
    "        state = new_state\n",
    "        I *= GAMMA\n",
    "    \n",
    "    #append episode score \n",
    "    scores.append(score)\n",
    "    recent_scores.append(score)\n",
    "\n",
    "    #print episode stats\n",
    "    if episode % 100 == 0:\n",
    "        print('Episode {}\\tAverage Score: {:.2f}'.format(episode, np.array(recent_scores).mean()))\n",
    "    \n",
    "    #early stopping if we meet solved score goal\n",
    "    if np.array(recent_scores).mean() >= SOLVED_SCORE:\n",
    "        break"
   ]
  },
  {
   "cell_type": "code",
   "execution_count": null,
   "metadata": {},
   "outputs": [
    {
     "data": {
      "image/png": "[encoded data removed]",
      "text/plain": [
       "<Figure size 640x480 with 1 Axes>"
      ]
     },
     "metadata": {},
     "output_type": "display_data"
    }
   ],
   "source": [
    "sns.set()\n",
    "scores_series = pd.Series(scores)\n",
    "rolling_average = scores_series.rolling(window=100).mean()\n",
    "plt.plot(rolling_average)\n",
    "plt.ylabel('Rewards')\n",
    "plt.xlabel('Episodes')\n",
    "plt.title('Training score of CartPole Actor-Critic TD(0)')\n",
    "plt.show()"
   ]
  },
  {
   "cell_type": "code",
   "execution_count": null,
   "metadata": {},
   "outputs": [
    {
     "name": "stderr",
     "output_type": "stream",
     "text": [
      "100%|██████████| 50/50 [00:09<00:00,  5.17it/s]\n"
     ]
    }
   ],
   "source": [
    "done = False\n",
    "state = env.reset()\n",
    "scores = []\n",
    "\n",
    "for _ in tqdm.trange(50):\n",
    "    state, _ = env.reset()\n",
    "    done = False\n",
    "    trunc = False\n",
    "    score = 0\n",
    "    while not done and not trunc:\n",
    "        action, lp = select_action(actor, state)\n",
    "        new_state, reward, done, trunc, _ = env.step(action)\n",
    "        score += reward\n",
    "        state = new_state\n",
    "    scores.append(score)\n",
    "env.close()"
   ]
  },
  {
   "cell_type": "code",
   "execution_count": null,
   "metadata": {},
   "outputs": [
    {
     "name": "stdout",
     "output_type": "stream",
     "text": [
      "Mean score:  500.0\n"
     ]
    }
   ],
   "source": [
    "mean_score = np.array(scores).mean()\n",
    "print('Mean score: ', mean_score)"
   ]
  },
  {
   "cell_type": "code",
   "execution_count": null,
   "metadata": {},
   "outputs": [],
   "source": [
    "state, _ = env.reset()\n",
    "done = False\n",
    "trunc = False\n",
    "score = 0\n",
    "while not done and not trunc:\n",
    "    action, lp = select_action(actor, state)\n",
    "    new_state, reward, done, trunc, _ = env.step(action)\n",
    "    score += reward\n",
    "    state = new_state\n",
    "scores.append(score)"
   ]
  },
  {
   "cell_type": "code",
   "execution_count": null,
   "metadata": {},
   "outputs": [
    {
     "name": "stdout",
     "output_type": "stream",
     "text": [
      "Score: 500.0\n"
     ]
    }
   ],
   "source": [
    "# test model agent\n",
    "env = gym.make('CartPole-v1', render_mode=\"rgb_array\")\n",
    "frames = [] \n",
    "done = False\n",
    "trunc = False\n",
    "score = 0\n",
    "state, _ = env.reset()\n",
    "while not done and not trunc:\n",
    "    action, lp = select_action(actor, state)\n",
    "    new_state, reward, done, trunc, _ = env.step(action)\n",
    "    score += reward\n",
    "    state = new_state\n",
    "    img = env.render()\n",
    "    frames.append(img)\n",
    "\n",
    "print(\"Score:\", score)\n",
    "imageio.mimsave('cartpole-actor_critic.gif', frames, duration=60)"
   ]
  },
  {
   "cell_type": "code",
   "execution_count": null,
   "metadata": {},
   "outputs": [],
   "source": []
  }
 ],
 "metadata": {
  "kernelspec": {
   "display_name": "gpu-env",
   "language": "python",
   "name": "python3"
  },
  "language_info": {
   "codemirror_mode": {
    "name": "ipython",
    "version": 3
   },
   "file_extension": ".py",
   "mimetype": "text/x-python",
   "name": "python",
   "nbconvert_exporter": "python",
   "pygments_lexer": "ipython3",
   "version": "3.8.0"
  },
  "orig_nbformat": 4
 },
 "nbformat": 4,
 "nbformat_minor": 2
}
