{
 "cells": [
  {
   "cell_type": "code",
   "execution_count": 10,
   "metadata": {},
   "outputs": [],
   "source": [
    "import gym\n",
    "import gym_classics\n",
    "import warnings\n",
    "import numpy as np\n",
    "import random\n",
    "import matplotlib.pyplot as plt\n",
    "from tqdm import tqdm\n",
    "from collections import deque\n",
    "warnings.filterwarnings(\"ignore\")"
   ]
  },
  {
   "cell_type": "code",
   "execution_count": 21,
   "metadata": {},
   "outputs": [],
   "source": [
    "def tile_coding(state, params):\n",
    "    low = [-1.2, -0.07]\n",
    "    high = [0.6, 0.07]\n",
    "    final_state = [0, 0]\n",
    "    for i in range(2):\n",
    "        state_range = high[i] - low[i]\n",
    "        tile_len = state_range / params[\"tiles\"][i]\n",
    "        final_state[i] = int((state[i] - low[i]) // tile_len)\n",
    "    return (final_state[0], final_state[1])\n",
    "\n",
    "def choose_action(Q, state, params):\n",
    "    if random.uniform(0,1) < params[\"epsilon\"]:\n",
    "        return np.random.choice(range(3))\n",
    "    else:\n",
    "        return np.argmax(Q[state[0],state[1],:])\n",
    "\n",
    "def train(env, Q, params):\n",
    "    tot_steps = 0\n",
    "    done = False\n",
    "    trunc = False\n",
    "    state, info = env.reset()\n",
    "    state = tile_coding(state, params)\n",
    "    tot_reward = 0\n",
    "    while not done and not trunc:\n",
    "        action = choose_action(Q, state, params)\n",
    "        nxt_state, reward, done, trunc, info = env.step(action)\n",
    "        nxt_state = tile_coding(nxt_state, params)\n",
    "\n",
    "        target = params[\"gamma\"] * np.max(Q[nxt_state[0], nxt_state[1], :])\n",
    "        if done: target = 0\n",
    "        td_error = reward + target -  Q[state[0], state[1], action]\n",
    "        Q[state[0], state[1], action] += params[\"alpha\"] * td_error\n",
    "        \n",
    "        tot_reward += reward\n",
    "        state = nxt_state\n",
    "    params[\"epsilon\"] *= np.exp(-params[\"decay_rate\"])\n",
    "    return tot_reward"
   ]
  },
  {
   "cell_type": "code",
   "execution_count": 23,
   "metadata": {},
   "outputs": [
    {
     "name": "stderr",
     "output_type": "stream",
     "text": [
      "100%|██████████| 100/100 [01:37<00:00,  1.02it/s]\n"
     ]
    }
   ],
   "source": [
    "params = {\n",
    "    \"alpha\": 0.5,\n",
    "    \"gamma\": 0.95,\n",
    "    \"epsilon\": 1,\n",
    "    \"decay_rate\": 0.007,\n",
    "    \"tiles\": (20, 200),\n",
    "}\n",
    "\n",
    "EPISODES = 100\n",
    "ROUNDS = 50\n",
    "reward_list = np.zeros(EPISODES)\n",
    "env = gym.make(\"MountainCar-v0\")\n",
    "\n",
    "Q = np.zeros((params[\"tiles\"][0], params[\"tiles\"][1], 3))\n",
    "for i in tqdm(range(EPISODES)):\n",
    "    for _ in range(ROUNDS):\n",
    "        reward_list[i] += train(env, Q, params)\n",
    "reward_list /= ROUNDS"
   ]
  },
  {
   "cell_type": "code",
   "execution_count": 24,
   "metadata": {},
   "outputs": [
    {
     "data": {
      "image/png": "[encoded data removed]",
      "text/plain": [
       "<Figure size 432x288 with 1 Axes>"
      ]
     },
     "metadata": {
      "needs_background": "light"
     },
     "output_type": "display_data"
    }
   ],
   "source": [
    "plt.plot(reward_list)\n",
    "plt.show()"
   ]
  },
  {
   "cell_type": "code",
   "execution_count": 25,
   "metadata": {},
   "outputs": [
    {
     "name": "stdout",
     "output_type": "stream",
     "text": [
      "195 steps\n"
     ]
    }
   ],
   "source": [
    "# test model\n",
    "env = gym.make('MountainCar-v0', render_mode = \"human\")\n",
    "state, info = env.reset()\n",
    "state = tile_coding(state, params)\n",
    "done = False\n",
    "trunc = False\n",
    "rewards = 0\n",
    "while not done and not trunc:\n",
    "    action = np.argmax(Q[state[0],state[1],:])\n",
    "    new_state, reward, done, trunc, info = env.step(action)\n",
    "    new_state = tile_coding(new_state, params)\n",
    "    rewards += reward\n",
    "    state = new_state\n",
    "    env.render()\n",
    "    if done:\n",
    "        break\n",
    "env.close()\n",
    "print(int(abs(rewards)), \"steps\")"
   ]
  },
  {
   "cell_type": "code",
   "execution_count": null,
   "metadata": {},
   "outputs": [],
   "source": []
  }
 ],
 "metadata": {
  "kernelspec": {
   "display_name": "Python 3.9.13 64-bit (microsoft store)",
   "language": "python",
   "name": "python3"
  },
  "language_info": {
   "codemirror_mode": {
    "name": "ipython",
    "version": 3
   },
   "file_extension": ".py",
   "mimetype": "text/x-python",
   "name": "python",
   "nbconvert_exporter": "python",
   "pygments_lexer": "ipython3",
   "version": "3.9.13"
  },
  "orig_nbformat": 4,
  "vscode": {
   "interpreter": {
    "hash": "47616051ff63aeeac36103e296d3336537a0c2bffa1b3ec970ae79cf7e9a110c"
   }
  }
 },
 "nbformat": 4,
 "nbformat_minor": 2
}
